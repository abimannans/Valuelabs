{
  "nbformat": 4,
  "nbformat_minor": 0,
  "metadata": {
    "colab": {
      "name": "valuelabs.ipynb",
      "provenance": [],
      "include_colab_link": true
    },
    "kernelspec": {
      "name": "python3",
      "display_name": "Python 3"
    },
    "accelerator": "GPU"
  },
  "cells": [
    {
      "cell_type": "markdown",
      "metadata": {
        "id": "view-in-github",
        "colab_type": "text"
      },
      "source": [
        "<a href=\"https://colab.research.google.com/github/abimannans/Valuelabs/blob/master/valuelabs.ipynb\" target=\"_parent\"><img src=\"https://colab.research.google.com/assets/colab-badge.svg\" alt=\"Open In Colab\"/></a>"
      ]
    },
    {
      "cell_type": "code",
      "metadata": {
        "id": "LB8bT79Ja1zz",
        "colab_type": "code",
        "colab": {
          "base_uri": "https://localhost:8080/",
          "height": 136
        },
        "outputId": "12270684-210c-4970-caec-5ef1dc07b844"
      },
      "source": [
        "!unzip 92a4172ee04e11e9.zip"
      ],
      "execution_count": 1,
      "outputs": [
        {
          "output_type": "stream",
          "text": [
            "Archive:  92a4172ee04e11e9.zip\n",
            "   creating: DataSet/\n",
            "  inflating: DataSet/Results.csv     \n",
            "  inflating: DataSet/Train.csv       \n",
            "  inflating: DataSet/readme.md       \n",
            "  inflating: DataSet/Sample_Submission.csv  \n",
            "  inflating: DataSet/Test.csv        \n"
          ],
          "name": "stdout"
        }
      ]
    },
    {
      "cell_type": "code",
      "metadata": {
        "id": "zUppmYaCblXl",
        "colab_type": "code",
        "colab": {
          "base_uri": "https://localhost:8080/",
          "height": 122
        },
        "outputId": "991cf8aa-df0f-42ea-a8c5-60e689455f7b"
      },
      "source": [
        "from google.colab import drive\n",
        "drive.mount('/content/drive')"
      ],
      "execution_count": 5,
      "outputs": [
        {
          "output_type": "stream",
          "text": [
            "Go to this URL in a browser: https://accounts.google.com/o/oauth2/auth?client_id=947318989803-6bn6qk8qdgf4n4g3pfee6491hc0brc4i.apps.googleusercontent.com&redirect_uri=urn%3Aietf%3Awg%3Aoauth%3A2.0%3Aoob&scope=email%20https%3A%2F%2Fwww.googleapis.com%2Fauth%2Fdocs.test%20https%3A%2F%2Fwww.googleapis.com%2Fauth%2Fdrive%20https%3A%2F%2Fwww.googleapis.com%2Fauth%2Fdrive.photos.readonly%20https%3A%2F%2Fwww.googleapis.com%2Fauth%2Fpeopleapi.readonly&response_type=code\n",
            "\n",
            "Enter your authorization code:\n",
            "··········\n",
            "Mounted at /content/drive\n"
          ],
          "name": "stdout"
        }
      ]
    },
    {
      "cell_type": "code",
      "metadata": {
        "id": "h4tyhT_RbnLB",
        "colab_type": "code",
        "colab": {
          "base_uri": "https://localhost:8080/",
          "height": 34
        },
        "outputId": "28514ae8-1f74-4be3-f737-e13d9c167ad2"
      },
      "source": [
        "!ls '/content/drive/My Drive/Colab Notebooks/glove.6B.100d.txt'"
      ],
      "execution_count": 8,
      "outputs": [
        {
          "output_type": "stream",
          "text": [
            "'/content/drive/My Drive/Colab Notebooks/glove.6B.100d.txt'\n"
          ],
          "name": "stdout"
        }
      ]
    },
    {
      "cell_type": "code",
      "metadata": {
        "id": "bVD9ABVecSqf",
        "colab_type": "code",
        "colab": {
          "base_uri": "https://localhost:8080/",
          "height": 34
        },
        "outputId": "f1486e86-388d-4c3b-c771-e8e4177291b6"
      },
      "source": [
        "import numpy as np\n",
        "import pandas as pd\n",
        "import matplotlib.pyplot as plt\n",
        "import json\n",
        "from keras.preprocessing.sequence import pad_sequences\n",
        "from keras.utils import to_categorical\n",
        "from keras.layers import *\n",
        "from keras.models import Sequential,Model\n",
        "import re"
      ],
      "execution_count": 9,
      "outputs": [
        {
          "output_type": "stream",
          "text": [
            "Using TensorFlow backend.\n"
          ],
          "name": "stderr"
        }
      ]
    },
    {
      "cell_type": "code",
      "metadata": {
        "id": "ZkwWBsotdB3A",
        "colab_type": "code",
        "colab": {}
      },
      "source": [
        "train = pd.read_csv(\"DataSet/Train.csv\")\n",
        "test = pd.read_csv(\"DataSet/Test.csv\")"
      ],
      "execution_count": 0,
      "outputs": []
    },
    {
      "cell_type": "code",
      "metadata": {
        "id": "9AD6s2aSdFFj",
        "colab_type": "code",
        "colab": {
          "base_uri": "https://localhost:8080/",
          "height": 289
        },
        "outputId": "7de81ca2-d566-4785-bb95-bb74699bd5f8"
      },
      "source": [
        "train.head()"
      ],
      "execution_count": 11,
      "outputs": [
        {
          "output_type": "execute_result",
          "data": {
            "text/html": [
              "<div>\n",
              "<style scoped>\n",
              "    .dataframe tbody tr th:only-of-type {\n",
              "        vertical-align: middle;\n",
              "    }\n",
              "\n",
              "    .dataframe tbody tr th {\n",
              "        vertical-align: top;\n",
              "    }\n",
              "\n",
              "    .dataframe thead th {\n",
              "        text-align: right;\n",
              "    }\n",
              "</style>\n",
              "<table border=\"1\" class=\"dataframe\">\n",
              "  <thead>\n",
              "    <tr style=\"text-align: right;\">\n",
              "      <th></th>\n",
              "      <th>question</th>\n",
              "      <th>answer_text</th>\n",
              "      <th>distractor</th>\n",
              "    </tr>\n",
              "  </thead>\n",
              "  <tbody>\n",
              "    <tr>\n",
              "      <th>0</th>\n",
              "      <td>Meals can be served</td>\n",
              "      <td>in rooms at 9:00 p. m.</td>\n",
              "      <td>'outside the room at 3:00 p. m.', 'in the dini...</td>\n",
              "    </tr>\n",
              "    <tr>\n",
              "      <th>1</th>\n",
              "      <td>It can be inferred from the passage that</td>\n",
              "      <td>The local government can deal with the problem...</td>\n",
              "      <td>'If some tragedies occur again ', ' relevant d...</td>\n",
              "    </tr>\n",
              "    <tr>\n",
              "      <th>2</th>\n",
              "      <td>The author called Tommy 's parents in order to</td>\n",
              "      <td>help them realize their influence on Tommy</td>\n",
              "      <td>'blame Tommy for his failing grades', 'blame T...</td>\n",
              "    </tr>\n",
              "    <tr>\n",
              "      <th>3</th>\n",
              "      <td>It can be inferred from the passage that</td>\n",
              "      <td>the writer is not very willing to use idioms</td>\n",
              "      <td>'idioms are the most important part in a langu...</td>\n",
              "    </tr>\n",
              "    <tr>\n",
              "      <th>4</th>\n",
              "      <td>How can we deal with snake wounds according to...</td>\n",
              "      <td>Stay calm and do n't move .</td>\n",
              "      <td>'Cut the wound and suck the poison out .'</td>\n",
              "    </tr>\n",
              "  </tbody>\n",
              "</table>\n",
              "</div>"
            ],
            "text/plain": [
              "                                            question  ...                                         distractor\n",
              "0                                Meals can be served  ...  'outside the room at 3:00 p. m.', 'in the dini...\n",
              "1           It can be inferred from the passage that  ...  'If some tragedies occur again ', ' relevant d...\n",
              "2     The author called Tommy 's parents in order to  ...  'blame Tommy for his failing grades', 'blame T...\n",
              "3           It can be inferred from the passage that  ...  'idioms are the most important part in a langu...\n",
              "4  How can we deal with snake wounds according to...  ...          'Cut the wound and suck the poison out .'\n",
              "\n",
              "[5 rows x 3 columns]"
            ]
          },
          "metadata": {
            "tags": []
          },
          "execution_count": 11
        }
      ]
    },
    {
      "cell_type": "code",
      "metadata": {
        "id": "iYTn-EEGdHoI",
        "colab_type": "code",
        "colab": {
          "base_uri": "https://localhost:8080/",
          "height": 204
        },
        "outputId": "0f3f8972-0b8b-4f49-e770-af53a7f1fce0"
      },
      "source": [
        "test.head()"
      ],
      "execution_count": 12,
      "outputs": [
        {
          "output_type": "execute_result",
          "data": {
            "text/html": [
              "<div>\n",
              "<style scoped>\n",
              "    .dataframe tbody tr th:only-of-type {\n",
              "        vertical-align: middle;\n",
              "    }\n",
              "\n",
              "    .dataframe tbody tr th {\n",
              "        vertical-align: top;\n",
              "    }\n",
              "\n",
              "    .dataframe thead th {\n",
              "        text-align: right;\n",
              "    }\n",
              "</style>\n",
              "<table border=\"1\" class=\"dataframe\">\n",
              "  <thead>\n",
              "    <tr style=\"text-align: right;\">\n",
              "      <th></th>\n",
              "      <th>question</th>\n",
              "      <th>answer_text</th>\n",
              "    </tr>\n",
              "  </thead>\n",
              "  <tbody>\n",
              "    <tr>\n",
              "      <th>0</th>\n",
              "      <td>What 'S the main idea of the text ?</td>\n",
              "      <td>The lack of career -- based courses in US high...</td>\n",
              "    </tr>\n",
              "    <tr>\n",
              "      <th>1</th>\n",
              "      <td>In the summer high season , Finland does nt se...</td>\n",
              "      <td>the sun is out at night</td>\n",
              "    </tr>\n",
              "    <tr>\n",
              "      <th>2</th>\n",
              "      <td>If you want to apply for Chinese Business Inte...</td>\n",
              "      <td>have to get confirmed at least twice</td>\n",
              "    </tr>\n",
              "    <tr>\n",
              "      <th>3</th>\n",
              "      <td>That afternoon , the boy 's clothes were dry b...</td>\n",
              "      <td>nobody made room for him in the water .</td>\n",
              "    </tr>\n",
              "    <tr>\n",
              "      <th>4</th>\n",
              "      <td>Which of the following statements is NOT true ?</td>\n",
              "      <td>There are twelve countries in the World Wildli...</td>\n",
              "    </tr>\n",
              "  </tbody>\n",
              "</table>\n",
              "</div>"
            ],
            "text/plain": [
              "                                            question                                        answer_text\n",
              "0                What 'S the main idea of the text ?  The lack of career -- based courses in US high...\n",
              "1  In the summer high season , Finland does nt se...                            the sun is out at night\n",
              "2  If you want to apply for Chinese Business Inte...               have to get confirmed at least twice\n",
              "3  That afternoon , the boy 's clothes were dry b...            nobody made room for him in the water .\n",
              "4    Which of the following statements is NOT true ?  There are twelve countries in the World Wildli..."
            ]
          },
          "metadata": {
            "tags": []
          },
          "execution_count": 12
        }
      ]
    },
    {
      "cell_type": "code",
      "metadata": {
        "id": "4fIB8z2WdJV7",
        "colab_type": "code",
        "colab": {}
      },
      "source": [
        "train = train.values\n",
        "test = test.values"
      ],
      "execution_count": 0,
      "outputs": []
    },
    {
      "cell_type": "code",
      "metadata": {
        "id": "yVDmMHipdLdc",
        "colab_type": "code",
        "colab": {}
      },
      "source": [
        "answers = {}\n",
        "distractors = {}\n",
        "count = 0\n",
        "for x in range(train.shape[0]):\n",
        "  answers[train[x][0]] = train[x][1]\n",
        "  a=[]\n",
        "  for y in train[x][2].split(\", \"):\n",
        "    a.append(str(y[1:-1]))\n",
        "  distractors[train[x][0]] = a\n",
        "  count = count+1"
      ],
      "execution_count": 0,
      "outputs": []
    },
    {
      "cell_type": "code",
      "metadata": {
        "id": "jpq7UHnJdOYs",
        "colab_type": "code",
        "colab": {
          "base_uri": "https://localhost:8080/",
          "height": 68
        },
        "outputId": "d78a234e-54f4-4824-a772-d701bc89e407"
      },
      "source": [
        "distractors[\"Meals can be served\"]"
      ],
      "execution_count": 15,
      "outputs": [
        {
          "output_type": "execute_result",
          "data": {
            "text/plain": [
              "['outside the room at 3:00 p. m.',\n",
              " 'in the dining - room at 6:00 p. m.',\n",
              " 'in the dining - room from 7:30 a. m. to 9:15 p. m.']"
            ]
          },
          "metadata": {
            "tags": []
          },
          "execution_count": 15
        }
      ]
    },
    {
      "cell_type": "code",
      "metadata": {
        "id": "lkgT61zwdRPO",
        "colab_type": "code",
        "colab": {}
      },
      "source": [
        "def clean_text(sentence):\n",
        "  sentence = sentence.lower()\n",
        "  sentence = re.sub(\"[^a-z0-9]+\",\" \" , sentence)\n",
        "  sentence = sentence.split()\n",
        "  \n",
        "  sentence = [s for s in sentence if((len(s)>1) or (re.match(\"[0-9]+\",s) is not None))]\n",
        "  sentence = \" \".join(sentence)\n",
        "  \n",
        "  return sentence"
      ],
      "execution_count": 0,
      "outputs": []
    },
    {
      "cell_type": "code",
      "metadata": {
        "id": "WruYuHgPdUlz",
        "colab_type": "code",
        "colab": {}
      },
      "source": [
        "# Clean all the captions\n",
        "a={}\n",
        "d={}\n",
        "for key , dist_list in distractors.items():\n",
        "  for i in range(len(dist_list)):\n",
        "    dist_list[i] = clean_text(dist_list[i])\n",
        "  answer=clean_text(answers[key])\n",
        "  key=clean_text(key)\n",
        "  a[key]=answer\n",
        "  d[key]=dist_list\n",
        "answers=a\n",
        "distractors=d"
      ],
      "execution_count": 0,
      "outputs": []
    },
    {
      "cell_type": "code",
      "metadata": {
        "id": "5_Uty-XtdX0L",
        "colab_type": "code",
        "colab": {
          "base_uri": "https://localhost:8080/",
          "height": 68
        },
        "outputId": "1465b5d1-092f-41dd-e1e5-eaab7ef13f88"
      },
      "source": [
        "distractors[\"meals can be served\"]"
      ],
      "execution_count": 18,
      "outputs": [
        {
          "output_type": "execute_result",
          "data": {
            "text/plain": [
              "['outside the room at 3 00',\n",
              " 'in the dining room at 6 00',\n",
              " 'in the dining room from 7 30 to 9 15']"
            ]
          },
          "metadata": {
            "tags": []
          },
          "execution_count": 18
        }
      ]
    },
    {
      "cell_type": "code",
      "metadata": {
        "id": "ilhoiixwdZ3m",
        "colab_type": "code",
        "colab": {}
      },
      "source": [
        "with open(\"answers.txt\",\"w\") as f:\n",
        "  f.write(str(answers))"
      ],
      "execution_count": 0,
      "outputs": []
    },
    {
      "cell_type": "code",
      "metadata": {
        "id": "PjBVtABpdcSQ",
        "colab_type": "code",
        "colab": {}
      },
      "source": [
        "with open(\"distractors.txt\",\"w\") as f:\n",
        "  f.write(str(distractors))"
      ],
      "execution_count": 0,
      "outputs": []
    },
    {
      "cell_type": "code",
      "metadata": {
        "id": "5HhuboJOdeMj",
        "colab_type": "code",
        "colab": {}
      },
      "source": [
        "vocab = set()\n",
        "for key in answers.keys():\n",
        "  [vocab.update(key.split())]\n",
        "  [vocab.update(answers[key].split())]\n",
        "  [vocab.update(sentence.split()) for sentence in distractors[key]]"
      ],
      "execution_count": 0,
      "outputs": []
    },
    {
      "cell_type": "code",
      "metadata": {
        "id": "QTtmP5SDdgH8",
        "colab_type": "code",
        "colab": {
          "base_uri": "https://localhost:8080/",
          "height": 34
        },
        "outputId": "e0bdab3e-657e-43fe-8285-23620ab74ee1"
      },
      "source": [
        "print(len(vocab))"
      ],
      "execution_count": 22,
      "outputs": [
        {
          "output_type": "stream",
          "text": [
            "21459\n"
          ],
          "name": "stdout"
        }
      ]
    },
    {
      "cell_type": "code",
      "metadata": {
        "id": "57FuyLfedjJB",
        "colab_type": "code",
        "colab": {
          "base_uri": "https://localhost:8080/",
          "height": 34
        },
        "outputId": "875df5e0-2f28-4b89-a089-08ab826ebdca"
      },
      "source": [
        "total = []\n",
        "for key in answers.keys():\n",
        "  [total.append(i) for i in key.split()]\n",
        "  [total.append(i) for i in answers[key].split()]\n",
        "  [total.append(i) for des in distractors[key] for i in des.split()]\n",
        "\n",
        "print(len(total))"
      ],
      "execution_count": 23,
      "outputs": [
        {
          "output_type": "stream",
          "text": [
            "718584\n"
          ],
          "name": "stdout"
        }
      ]
    },
    {
      "cell_type": "code",
      "metadata": {
        "id": "-BkaSycadmMd",
        "colab_type": "code",
        "colab": {}
      },
      "source": [
        "import collections\n",
        "counter = collections.Counter(total)\n",
        "freq_cnt = dict(counter)"
      ],
      "execution_count": 0,
      "outputs": []
    },
    {
      "cell_type": "code",
      "metadata": {
        "id": "ED5dO7CBdpSF",
        "colab_type": "code",
        "colab": {}
      },
      "source": [
        "sorted_freq_cnt = sorted(freq_cnt.items(),reverse = True,key = lambda x:x[1])\n",
        "\n",
        "threshold =10\n",
        "sorted_freq_cnt = [x for x in sorted_freq_cnt if x[1]>threshold]\n",
        "total_words = [x[0] for x in sorted_freq_cnt]"
      ],
      "execution_count": 0,
      "outputs": []
    },
    {
      "cell_type": "code",
      "metadata": {
        "id": "kUWKfoYLdrjz",
        "colab_type": "code",
        "colab": {
          "base_uri": "https://localhost:8080/",
          "height": 34
        },
        "outputId": "1c0d057a-6aee-4f2a-f5f4-7def52ed5ba5"
      },
      "source": [
        "print(len(sorted_freq_cnt))"
      ],
      "execution_count": 26,
      "outputs": [
        {
          "output_type": "stream",
          "text": [
            "4723\n"
          ],
          "name": "stdout"
        }
      ]
    },
    {
      "cell_type": "code",
      "metadata": {
        "id": "05iZ2JKydty1",
        "colab_type": "code",
        "colab": {}
      },
      "source": [
        "train_distractors = {}\n",
        "for key in distractors.keys():\n",
        "  train_distractors[key] = []\n",
        "  for dist in distractors[key]:\n",
        "    dist_to_append = \"StartSeq \" + dist + \" EndSeq\"\n",
        "    train_distractors[key].append(dist_to_append)"
      ],
      "execution_count": 0,
      "outputs": []
    },
    {
      "cell_type": "code",
      "metadata": {
        "id": "mGf30giodwgd",
        "colab_type": "code",
        "colab": {
          "base_uri": "https://localhost:8080/",
          "height": 54
        },
        "outputId": "f83614fb-ecef-49e8-d857-26246f64b918"
      },
      "source": [
        "print(train_distractors[\"meals can be served\"])"
      ],
      "execution_count": 28,
      "outputs": [
        {
          "output_type": "stream",
          "text": [
            "['StartSeq outside the room at 3 00 EndSeq', 'StartSeq in the dining room at 6 00 EndSeq', 'StartSeq in the dining room from 7 30 to 9 15 EndSeq']\n"
          ],
          "name": "stdout"
        }
      ]
    },
    {
      "cell_type": "code",
      "metadata": {
        "id": "e8Q_TF_bdyrA",
        "colab_type": "code",
        "colab": {
          "base_uri": "https://localhost:8080/",
          "height": 34
        },
        "outputId": "85cbbd70-0a55-4a0a-a038-b6847b46ff90"
      },
      "source": [
        "len(total_words)"
      ],
      "execution_count": 29,
      "outputs": [
        {
          "output_type": "execute_result",
          "data": {
            "text/plain": [
              "4723"
            ]
          },
          "metadata": {
            "tags": []
          },
          "execution_count": 29
        }
      ]
    },
    {
      "cell_type": "code",
      "metadata": {
        "id": "cNStdCBpd0xg",
        "colab_type": "code",
        "colab": {}
      },
      "source": [
        "word_to_idx = {}\n",
        "idx_to_word = {}\n",
        "\n",
        "for i,word in enumerate(total_words):\n",
        "  word_to_idx[word] = i+1\n",
        "  idx_to_word[i+1] = word"
      ],
      "execution_count": 0,
      "outputs": []
    },
    {
      "cell_type": "code",
      "metadata": {
        "id": "qcu4srvkd3OM",
        "colab_type": "code",
        "colab": {
          "base_uri": "https://localhost:8080/",
          "height": 34
        },
        "outputId": "3e39fdbb-e816-4b5b-aac7-57964520b21b"
      },
      "source": [
        "len(word_to_idx)"
      ],
      "execution_count": 31,
      "outputs": [
        {
          "output_type": "execute_result",
          "data": {
            "text/plain": [
              "4723"
            ]
          },
          "metadata": {
            "tags": []
          },
          "execution_count": 31
        }
      ]
    },
    {
      "cell_type": "code",
      "metadata": {
        "id": "bQs-IXQtd594",
        "colab_type": "code",
        "colab": {}
      },
      "source": [
        "word_to_idx[\"StartSeq\"]=4724\n",
        "idx_to_word[4724] = \"StartSeq\"\n",
        "\n",
        "word_to_idx[\"EndSeq\"]=4725\n",
        "idx_to_word[4725] = \"EndSeq\"\n",
        "\n",
        "vocab_size = len(word_to_idx)"
      ],
      "execution_count": 0,
      "outputs": []
    },
    {
      "cell_type": "code",
      "metadata": {
        "id": "9lvCA219d8a-",
        "colab_type": "code",
        "colab": {}
      },
      "source": [
        "vocab_size= vocab_size+1"
      ],
      "execution_count": 0,
      "outputs": []
    },
    {
      "cell_type": "code",
      "metadata": {
        "id": "qP8IZuhVd-YN",
        "colab_type": "code",
        "colab": {
          "base_uri": "https://localhost:8080/",
          "height": 34
        },
        "outputId": "ed3d71d1-6b4f-40dc-d04b-4b6251df27b0"
      },
      "source": [
        "vocab_size"
      ],
      "execution_count": 34,
      "outputs": [
        {
          "output_type": "execute_result",
          "data": {
            "text/plain": [
              "4726"
            ]
          },
          "metadata": {
            "tags": []
          },
          "execution_count": 34
        }
      ]
    },
    {
      "cell_type": "code",
      "metadata": {
        "id": "--ZPPkQBeAVb",
        "colab_type": "code",
        "colab": {
          "base_uri": "https://localhost:8080/",
          "height": 34
        },
        "outputId": "300695b6-5a3f-456f-db0e-b5ec09470264"
      },
      "source": [
        "max_len=0\n",
        "for key in train_distractors.keys():\n",
        "  for dist in train_distractors[key]:\n",
        "    max_len = max(max_len,len(dist.split()))\n",
        "print(max_len)"
      ],
      "execution_count": 35,
      "outputs": [
        {
          "output_type": "stream",
          "text": [
            "30\n"
          ],
          "name": "stdout"
        }
      ]
    },
    {
      "cell_type": "code",
      "metadata": {
        "id": "GS5SdIzyeDGa",
        "colab_type": "code",
        "colab": {
          "base_uri": "https://localhost:8080/",
          "height": 34
        },
        "outputId": "c65adc45-5230-4755-8930-fdbd7e24baed"
      },
      "source": [
        "max_q=0\n",
        "for key in train_distractors.keys():\n",
        "  max_q = max(max_q,len(key.split()))\n",
        "print(max_q)"
      ],
      "execution_count": 36,
      "outputs": [
        {
          "output_type": "stream",
          "text": [
            "48\n"
          ],
          "name": "stdout"
        }
      ]
    },
    {
      "cell_type": "code",
      "metadata": {
        "id": "7eufn_mLeFKO",
        "colab_type": "code",
        "colab": {
          "base_uri": "https://localhost:8080/",
          "height": 34
        },
        "outputId": "d296205f-b516-4cbf-cf26-141ef2ec099d"
      },
      "source": [
        "max_a = 0\n",
        "for key in answers.keys():\n",
        "  max_a = max(max_a,len(answers[key].split()))\n",
        "print(max_a)"
      ],
      "execution_count": 37,
      "outputs": [
        {
          "output_type": "stream",
          "text": [
            "101\n"
          ],
          "name": "stdout"
        }
      ]
    },
    {
      "cell_type": "code",
      "metadata": {
        "id": "7NNo7SG3eHeZ",
        "colab_type": "code",
        "colab": {}
      },
      "source": [
        "def data_generator(train_distractors,answers,word_to_idx,max_len,batch_size):\n",
        "  X1,X2,X3,y = [],[],[],[]\n",
        "  \n",
        "  n=0\n",
        "  while True:\n",
        "    for key,dist_list in train_distractors.items():\n",
        "      n+=1\n",
        "      \n",
        "      question = key\n",
        "      answer = answers[key]\n",
        "      \n",
        "      \n",
        "      seqq = [word_to_idx[wordQ] for wordQ in question.split() if wordQ in word_to_idx]\n",
        "      question= pad_sequences([seqq],maxlen=max_q,value=0,padding='post')[0]\n",
        "      \n",
        "      \n",
        "      seqa = [word_to_idx[wordA] for wordA in answer.split() if wordA in word_to_idx]\n",
        "      answer = pad_sequences([seqa],maxlen=max_a,value=0,padding='post')[0]\n",
        "      \n",
        "      for dist in dist_list:\n",
        "        seq = [word_to_idx[word] for word in dist.split() if word in word_to_idx]\n",
        "        for i in range(1,len(seq)):\n",
        "          xi = seq[0:i]\n",
        "          yi = seq[i]\n",
        "          \n",
        "          xi = pad_sequences([xi],maxlen=max_len,value = 0,padding='post')[0] \n",
        "          yi = to_categorical([yi],num_classes = vocab_size)[0]\n",
        "          \n",
        "          \n",
        "          \n",
        "          X1.append(question)\n",
        "          X2.append(answer)\n",
        "          X3.append(xi)\n",
        "          y.append(yi)\n",
        "        if n==batch_size:\n",
        "          yield[[np.array(X1),np.array(X2),np.array(X3)],np.array(y)]\n",
        "          X1,X2,X3,y = [],[],[],[]\n",
        "          n=0"
      ],
      "execution_count": 0,
      "outputs": []
    },
    {
      "cell_type": "code",
      "metadata": {
        "id": "-VFbsUAYeLnx",
        "colab_type": "code",
        "colab": {}
      },
      "source": [
        "f=open(\"/content/drive/My Drive/Colab Notebooks/glove.6B.50d.txt\",encoding=\"utf8\")"
      ],
      "execution_count": 0,
      "outputs": []
    },
    {
      "cell_type": "code",
      "metadata": {
        "id": "NZZwea8UeT7Y",
        "colab_type": "code",
        "colab": {}
      },
      "source": [
        "embedding_index = {}\n",
        "for line in f:\n",
        "  values=line.split()\n",
        "  word = values[0]\n",
        "  embedding_index[word]=np.array(values[1:],dtype='float')"
      ],
      "execution_count": 0,
      "outputs": []
    },
    {
      "cell_type": "code",
      "metadata": {
        "id": "maoQrMw5eWnx",
        "colab_type": "code",
        "colab": {
          "base_uri": "https://localhost:8080/",
          "height": 170
        },
        "outputId": "667207c8-cdc3-4176-d922-2a1bd7c38b6d"
      },
      "source": [
        "embedding_index['apple']"
      ],
      "execution_count": 87,
      "outputs": [
        {
          "output_type": "execute_result",
          "data": {
            "text/plain": [
              "array([ 0.52042 , -0.8314  ,  0.49961 ,  1.2893  ,  0.1151  ,  0.057521,\n",
              "       -1.3753  , -0.97313 ,  0.18346 ,  0.47672 , -0.15112 ,  0.35532 ,\n",
              "        0.25912 , -0.77857 ,  0.52181 ,  0.47695 , -1.4251  ,  0.858   ,\n",
              "        0.59821 , -1.0903  ,  0.33574 , -0.60891 ,  0.41742 ,  0.21569 ,\n",
              "       -0.07417 , -0.5822  , -0.4502  ,  0.17253 ,  0.16448 , -0.38413 ,\n",
              "        2.3283  , -0.66682 , -0.58181 ,  0.74389 ,  0.095015, -0.47865 ,\n",
              "       -0.84591 ,  0.38704 ,  0.23693 , -1.5523  ,  0.64802 , -0.16521 ,\n",
              "       -1.4719  , -0.16224 ,  0.79857 ,  0.97391 ,  0.40027 , -0.21912 ,\n",
              "       -0.30938 ,  0.26581 ])"
            ]
          },
          "metadata": {
            "tags": []
          },
          "execution_count": 87
        }
      ]
    },
    {
      "cell_type": "code",
      "metadata": {
        "id": "yYfyxU56ezuP",
        "colab_type": "code",
        "colab": {}
      },
      "source": [
        "def getEmbeddingMatrix():\n",
        "  emb_dim=50\n",
        "  matrix = np.zeros((vocab_size,emb_dim))\n",
        "  for word,idx in word_to_idx.items():\n",
        "    embedding_vector = embedding_index.get(word)\n",
        "    if embedding_vector is not None:\n",
        "      matrix[idx] = embedding_vector\n",
        "  return matrix"
      ],
      "execution_count": 0,
      "outputs": []
    },
    {
      "cell_type": "code",
      "metadata": {
        "id": "iWH127_De3XB",
        "colab_type": "code",
        "colab": {
          "base_uri": "https://localhost:8080/",
          "height": 34
        },
        "outputId": "50283c0f-c5c8-407c-b013-1d9bacb172ab"
      },
      "source": [
        "embedding_matrix = getEmbeddingMatrix()\n",
        "embedding_matrix.shape"
      ],
      "execution_count": 89,
      "outputs": [
        {
          "output_type": "execute_result",
          "data": {
            "text/plain": [
              "(4726, 50)"
            ]
          },
          "metadata": {
            "tags": []
          },
          "execution_count": 89
        }
      ]
    },
    {
      "cell_type": "code",
      "metadata": {
        "id": "HOTbaw2_e8Ld",
        "colab_type": "code",
        "colab": {
          "base_uri": "https://localhost:8080/",
          "height": 68
        },
        "outputId": "fe0b0982-1edf-4035-b989-5cf1b1e64319"
      },
      "source": [
        "embedding_matrix[4724]"
      ],
      "execution_count": 90,
      "outputs": [
        {
          "output_type": "execute_result",
          "data": {
            "text/plain": [
              "array([0., 0., 0., 0., 0., 0., 0., 0., 0., 0., 0., 0., 0., 0., 0., 0., 0.,\n",
              "       0., 0., 0., 0., 0., 0., 0., 0., 0., 0., 0., 0., 0., 0., 0., 0., 0.,\n",
              "       0., 0., 0., 0., 0., 0., 0., 0., 0., 0., 0., 0., 0., 0., 0., 0.])"
            ]
          },
          "metadata": {
            "tags": []
          },
          "execution_count": 90
        }
      ]
    },
    {
      "cell_type": "code",
      "metadata": {
        "id": "Xon9HEDJe-uK",
        "colab_type": "code",
        "colab": {
          "base_uri": "https://localhost:8080/",
          "height": 34
        },
        "outputId": "7d97514b-f3dc-4846-c099-cdf4b8d3bc16"
      },
      "source": [
        "print(max_len)"
      ],
      "execution_count": 91,
      "outputs": [
        {
          "output_type": "stream",
          "text": [
            "30\n"
          ],
          "name": "stdout"
        }
      ]
    },
    {
      "cell_type": "code",
      "metadata": {
        "id": "d4kvfuSYfBaM",
        "colab_type": "code",
        "colab": {}
      },
      "source": [
        "input_dist = Input(shape = (max_len,))\n",
        "input_dist1=  Embedding(input_dim=vocab_size,output_dim=50,mask_zero=True)(input_dist)\n",
        "input_dist2 = Dropout(0.3)(input_dist1)\n",
        "input_dist3 = LSTM(256)(input_dist2)"
      ],
      "execution_count": 0,
      "outputs": []
    },
    {
      "cell_type": "code",
      "metadata": {
        "id": "bbWt_VA1fH2c",
        "colab_type": "code",
        "colab": {}
      },
      "source": [
        "input_ques = Input(shape = (max_q,))\n",
        "input_ques1=  Embedding(input_dim=vocab_size,output_dim=50,mask_zero=True)(input_ques)\n",
        "input_ques2 = Dropout(0.3)(input_ques1)\n",
        "input_ques3 = LSTM(256)(input_ques2)"
      ],
      "execution_count": 0,
      "outputs": []
    },
    {
      "cell_type": "code",
      "metadata": {
        "id": "DxqKqe8MfNtd",
        "colab_type": "code",
        "colab": {}
      },
      "source": [
        "input_ans = Input(shape = (max_a,))\n",
        "input_ans1=  Embedding(input_dim=vocab_size,output_dim=50,mask_zero=True)(input_ans)\n",
        "input_ans2 = Dropout(0.3)(input_ans1)\n",
        "input_ans3 = LSTM(256)(input_ans2)"
      ],
      "execution_count": 0,
      "outputs": []
    },
    {
      "cell_type": "code",
      "metadata": {
        "id": "oHlPfpK1fPsf",
        "colab_type": "code",
        "colab": {}
      },
      "source": [
        "decoder1 = add([input_dist3,input_ques3,input_ans3])\n",
        "decoder2 = Dense(512 ,activation = 'relu')(decoder1)\n",
        "outputs = Dense(vocab_size,activation= 'softmax')(decoder2)\n",
        "\n",
        "model = Model(inputs = [input_ques,input_ans,input_dist],outputs = outputs)"
      ],
      "execution_count": 0,
      "outputs": []
    },
    {
      "cell_type": "code",
      "metadata": {
        "id": "FYm3_X3wfTOR",
        "colab_type": "code",
        "colab": {
          "base_uri": "https://localhost:8080/",
          "height": 697
        },
        "outputId": "1c8b8cfa-15c5-4eac-8f6d-dd5c16a41211"
      },
      "source": [
        "model.summary()"
      ],
      "execution_count": 96,
      "outputs": [
        {
          "output_type": "stream",
          "text": [
            "Model: \"model_6\"\n",
            "__________________________________________________________________________________________________\n",
            "Layer (type)                    Output Shape         Param #     Connected to                     \n",
            "==================================================================================================\n",
            "input_14 (InputLayer)           (None, 30)           0                                            \n",
            "__________________________________________________________________________________________________\n",
            "input_15 (InputLayer)           (None, 48)           0                                            \n",
            "__________________________________________________________________________________________________\n",
            "input_16 (InputLayer)           (None, 101)          0                                            \n",
            "__________________________________________________________________________________________________\n",
            "embedding_14 (Embedding)        (None, 30, 50)       236300      input_14[0][0]                   \n",
            "__________________________________________________________________________________________________\n",
            "embedding_15 (Embedding)        (None, 48, 50)       236300      input_15[0][0]                   \n",
            "__________________________________________________________________________________________________\n",
            "embedding_16 (Embedding)        (None, 101, 50)      236300      input_16[0][0]                   \n",
            "__________________________________________________________________________________________________\n",
            "dropout_14 (Dropout)            (None, 30, 50)       0           embedding_14[0][0]               \n",
            "__________________________________________________________________________________________________\n",
            "dropout_15 (Dropout)            (None, 48, 50)       0           embedding_15[0][0]               \n",
            "__________________________________________________________________________________________________\n",
            "dropout_16 (Dropout)            (None, 101, 50)      0           embedding_16[0][0]               \n",
            "__________________________________________________________________________________________________\n",
            "lstm_14 (LSTM)                  (None, 256)          314368      dropout_14[0][0]                 \n",
            "__________________________________________________________________________________________________\n",
            "lstm_15 (LSTM)                  (None, 256)          314368      dropout_15[0][0]                 \n",
            "__________________________________________________________________________________________________\n",
            "lstm_16 (LSTM)                  (None, 256)          314368      dropout_16[0][0]                 \n",
            "__________________________________________________________________________________________________\n",
            "add_6 (Add)                     (None, 256)          0           lstm_14[0][0]                    \n",
            "                                                                 lstm_15[0][0]                    \n",
            "                                                                 lstm_16[0][0]                    \n",
            "__________________________________________________________________________________________________\n",
            "dense_11 (Dense)                (None, 512)          131584      add_6[0][0]                      \n",
            "__________________________________________________________________________________________________\n",
            "dense_12 (Dense)                (None, 4726)         2424438     dense_11[0][0]                   \n",
            "==================================================================================================\n",
            "Total params: 4,208,026\n",
            "Trainable params: 4,208,026\n",
            "Non-trainable params: 0\n",
            "__________________________________________________________________________________________________\n"
          ],
          "name": "stdout"
        }
      ]
    },
    {
      "cell_type": "code",
      "metadata": {
        "id": "dt8yEBRKfVgV",
        "colab_type": "code",
        "colab": {}
      },
      "source": [
        "model.layers[3].set_weights([embedding_matrix])\n",
        "model.layers[3].trainable = False  \n",
        "\n",
        "model.layers[4].set_weights([embedding_matrix])\n",
        "model.layers[4].trainable = False  \n",
        "model.layers[5].set_weights([embedding_matrix])\n",
        "model.layers[5].trainable = False"
      ],
      "execution_count": 0,
      "outputs": []
    },
    {
      "cell_type": "code",
      "metadata": {
        "id": "v4hhp8WwnGel",
        "colab_type": "code",
        "colab": {
          "base_uri": "https://localhost:8080/",
          "height": 105
        },
        "outputId": "b25aaf21-2895-4b8e-d6a9-ba1f723c985e"
      },
      "source": [
        "model.compile(loss='categorical_crossentropy',optimizer = 'adam')"
      ],
      "execution_count": 107,
      "outputs": [
        {
          "output_type": "stream",
          "text": [
            "WARNING:tensorflow:From /usr/local/lib/python3.6/dist-packages/keras/optimizers.py:793: The name tf.train.Optimizer is deprecated. Please use tf.compat.v1.train.Optimizer instead.\n",
            "\n",
            "WARNING:tensorflow:From /usr/local/lib/python3.6/dist-packages/keras/backend/tensorflow_backend.py:3576: The name tf.log is deprecated. Please use tf.math.log instead.\n",
            "\n"
          ],
          "name": "stdout"
        }
      ]
    },
    {
      "cell_type": "code",
      "metadata": {
        "id": "Cz4md3B9jAQ6",
        "colab_type": "code",
        "colab": {
          "base_uri": "https://localhost:8080/",
          "height": 34
        },
        "outputId": "74dcffdf-5d16-4931-aa3b-14c9e9096895"
      },
      "source": [
        "!mkdir model_weights"
      ],
      "execution_count": 108,
      "outputs": [
        {
          "output_type": "stream",
          "text": [
            "mkdir: cannot create directory ‘model_weights’: File exists\n"
          ],
          "name": "stdout"
        }
      ]
    },
    {
      "cell_type": "code",
      "metadata": {
        "id": "UFjlsq6IfY6W",
        "colab_type": "code",
        "colab": {}
      },
      "source": [
        "from keras.models import load_model\n",
        "model.load_weights(\"/content/model_19.h5\")"
      ],
      "execution_count": 0,
      "outputs": []
    },
    {
      "cell_type": "code",
      "metadata": {
        "id": "vqVrPCpfiuZR",
        "colab_type": "code",
        "colab": {}
      },
      "source": [
        "epochs=20\n",
        "number_of_ques = 64\n",
        "steps = len(train_distractors)//number_of_ques"
      ],
      "execution_count": 0,
      "outputs": []
    },
    {
      "cell_type": "code",
      "metadata": {
        "id": "SIeYFsISjoPx",
        "colab_type": "code",
        "colab": {
          "base_uri": "https://localhost:8080/",
          "height": 785
        },
        "outputId": "028aa4df-b81c-4247-edab-5d601daf62a7"
      },
      "source": [
        "for i in range(epochs):\n",
        "  generator = data_generator(train_distractors,answers,word_to_idx,max_len,number_of_ques)\n",
        "  model.fit_generator(generator,epochs=1,steps_per_epoch = steps,verbose = 1)\n",
        "  model.save(\"./model_weights/model_\"+str(i)+\".h5\")"
      ],
      "execution_count": 111,
      "outputs": [
        {
          "output_type": "stream",
          "text": [
            "WARNING:tensorflow:From /usr/local/lib/python3.6/dist-packages/keras/backend/tensorflow_backend.py:1033: The name tf.assign_add is deprecated. Please use tf.compat.v1.assign_add instead.\n",
            "\n",
            "WARNING:tensorflow:From /usr/local/lib/python3.6/dist-packages/keras/backend/tensorflow_backend.py:1020: The name tf.assign is deprecated. Please use tf.compat.v1.assign instead.\n",
            "\n",
            "Epoch 1/1\n",
            "359/359 [==============================] - 316s 880ms/step - loss: 3.0593\n",
            "Epoch 1/1\n",
            "359/359 [==============================] - 312s 869ms/step - loss: 2.9192\n",
            "Epoch 1/1\n",
            "359/359 [==============================] - 312s 869ms/step - loss: 2.8733\n",
            "Epoch 1/1\n",
            "359/359 [==============================] - 312s 869ms/step - loss: 2.8324\n",
            "Epoch 1/1\n",
            "359/359 [==============================] - 312s 869ms/step - loss: 2.7953\n",
            "Epoch 1/1\n",
            "359/359 [==============================] - 312s 869ms/step - loss: 2.7643\n",
            "Epoch 1/1\n",
            "359/359 [==============================] - 313s 871ms/step - loss: 2.7304\n",
            "Epoch 1/1\n",
            "359/359 [==============================] - 313s 871ms/step - loss: 2.7023\n",
            "Epoch 1/1\n",
            "359/359 [==============================] - 312s 870ms/step - loss: 2.6782\n",
            "Epoch 1/1\n",
            "359/359 [==============================] - 312s 870ms/step - loss: 2.6509\n",
            "Epoch 1/1\n",
            "359/359 [==============================] - 313s 871ms/step - loss: 2.6272\n",
            "Epoch 1/1\n",
            "359/359 [==============================] - 312s 869ms/step - loss: 2.6026\n",
            "Epoch 1/1\n",
            "359/359 [==============================] - 312s 869ms/step - loss: 2.5810\n",
            "Epoch 1/1\n",
            "359/359 [==============================] - 311s 866ms/step - loss: 2.5640\n",
            "Epoch 1/1\n",
            "359/359 [==============================] - 312s 868ms/step - loss: 2.5462\n",
            "Epoch 1/1\n",
            "359/359 [==============================] - 313s 871ms/step - loss: 2.5227\n",
            "Epoch 1/1\n",
            "359/359 [==============================] - 312s 869ms/step - loss: 2.5062\n",
            "Epoch 1/1\n",
            "359/359 [==============================] - 312s 870ms/step - loss: 2.4858\n",
            "Epoch 1/1\n",
            "359/359 [==============================] - 312s 869ms/step - loss: 2.4698\n",
            "Epoch 1/1\n",
            "359/359 [==============================] - 313s 872ms/step - loss: 2.4530\n"
          ],
          "name": "stdout"
        }
      ]
    },
    {
      "cell_type": "code",
      "metadata": {
        "id": "6TERyqnMjrH0",
        "colab_type": "code",
        "colab": {}
      },
      "source": [
        " answers_t = {}\n",
        "count = 0\n",
        "for x in range(test.shape[0]):\n",
        "  answers_t[test[x][0]] = test[x][1]\n",
        "  count = count+1"
      ],
      "execution_count": 0,
      "outputs": []
    },
    {
      "cell_type": "code",
      "metadata": {
        "id": "jfX2Hklo87Jf",
        "colab_type": "code",
        "colab": {}
      },
      "source": [
        "a={}\n",
        "for key , answer in answers_t.items():\n",
        "  answer=clean_text(answers_t[key])\n",
        "  key=clean_text(key)\n",
        "  a[key]=answer\n",
        "answers_t=a"
      ],
      "execution_count": 0,
      "outputs": []
    },
    {
      "cell_type": "code",
      "metadata": {
        "id": "lS_C55mr8-eU",
        "colab_type": "code",
        "colab": {
          "base_uri": "https://localhost:8080/",
          "height": 34
        },
        "outputId": "a72118f0-32c2-4182-e160-59419600b00a"
      },
      "source": [
        "print(answers_t[\"what the main idea of the text\"])"
      ],
      "execution_count": 114,
      "outputs": [
        {
          "output_type": "stream",
          "text": [
            "lack of water affects california crops\n"
          ],
          "name": "stdout"
        }
      ]
    },
    {
      "cell_type": "code",
      "metadata": {
        "id": "jPo2yHMq9BWj",
        "colab_type": "code",
        "colab": {
          "base_uri": "https://localhost:8080/",
          "height": 34
        },
        "outputId": "967ad5e9-64cd-41bb-97a5-7636c5a1c131"
      },
      "source": [
        "print(len(answers_t.keys()))"
      ],
      "execution_count": 115,
      "outputs": [
        {
          "output_type": "stream",
          "text": [
            "10353\n"
          ],
          "name": "stdout"
        }
      ]
    },
    {
      "cell_type": "code",
      "metadata": {
        "id": "puMaSVqZ9ECp",
        "colab_type": "code",
        "colab": {}
      },
      "source": [
        "result = pd.read_csv(\"/content/DataSet/Results.csv\")"
      ],
      "execution_count": 0,
      "outputs": []
    },
    {
      "cell_type": "code",
      "metadata": {
        "id": "w3mbvKX29Gyk",
        "colab_type": "code",
        "colab": {
          "base_uri": "https://localhost:8080/",
          "height": 204
        },
        "outputId": "f4e3cd66-b5db-4b93-e3df-cb4520392607"
      },
      "source": [
        "result.head()"
      ],
      "execution_count": 118,
      "outputs": [
        {
          "output_type": "execute_result",
          "data": {
            "text/html": [
              "<div>\n",
              "<style scoped>\n",
              "    .dataframe tbody tr th:only-of-type {\n",
              "        vertical-align: middle;\n",
              "    }\n",
              "\n",
              "    .dataframe tbody tr th {\n",
              "        vertical-align: top;\n",
              "    }\n",
              "\n",
              "    .dataframe thead th {\n",
              "        text-align: right;\n",
              "    }\n",
              "</style>\n",
              "<table border=\"1\" class=\"dataframe\">\n",
              "  <thead>\n",
              "    <tr style=\"text-align: right;\">\n",
              "      <th></th>\n",
              "      <th>question</th>\n",
              "      <th>answer_text</th>\n",
              "      <th>distractor</th>\n",
              "    </tr>\n",
              "  </thead>\n",
              "  <tbody>\n",
              "    <tr>\n",
              "      <th>0</th>\n",
              "      <td>What 'S the main idea of the text ?</td>\n",
              "      <td>The lack of career -- based courses in US high...</td>\n",
              "      <td>NaN</td>\n",
              "    </tr>\n",
              "    <tr>\n",
              "      <th>1</th>\n",
              "      <td>In the summer high season , Finland does nt se...</td>\n",
              "      <td>the sun is out at night</td>\n",
              "      <td>NaN</td>\n",
              "    </tr>\n",
              "    <tr>\n",
              "      <th>2</th>\n",
              "      <td>If you want to apply for Chinese Business Inte...</td>\n",
              "      <td>have to get confirmed at least twice</td>\n",
              "      <td>NaN</td>\n",
              "    </tr>\n",
              "    <tr>\n",
              "      <th>3</th>\n",
              "      <td>That afternoon , the boy 's clothes were dry b...</td>\n",
              "      <td>nobody made room for him in the water .</td>\n",
              "      <td>NaN</td>\n",
              "    </tr>\n",
              "    <tr>\n",
              "      <th>4</th>\n",
              "      <td>Which of the following statements is NOT true ?</td>\n",
              "      <td>There are twelve countries in the World Wildli...</td>\n",
              "      <td>NaN</td>\n",
              "    </tr>\n",
              "  </tbody>\n",
              "</table>\n",
              "</div>"
            ],
            "text/plain": [
              "                                            question  ... distractor\n",
              "0                What 'S the main idea of the text ?  ...        NaN\n",
              "1  In the summer high season , Finland does nt se...  ...        NaN\n",
              "2  If you want to apply for Chinese Business Inte...  ...        NaN\n",
              "3  That afternoon , the boy 's clothes were dry b...  ...        NaN\n",
              "4    Which of the following statements is NOT true ?  ...        NaN\n",
              "\n",
              "[5 rows x 3 columns]"
            ]
          },
          "metadata": {
            "tags": []
          },
          "execution_count": 118
        }
      ]
    },
    {
      "cell_type": "code",
      "metadata": {
        "id": "_BiED9fq9KWn",
        "colab_type": "code",
        "colab": {}
      },
      "source": [
        "results = result.values"
      ],
      "execution_count": 0,
      "outputs": []
    },
    {
      "cell_type": "code",
      "metadata": {
        "id": "NLShV8yq9NM8",
        "colab_type": "code",
        "colab": {
          "base_uri": "https://localhost:8080/",
          "height": 34
        },
        "outputId": "37fa6f36-03ff-4213-c48a-ebcef2dd0366"
      },
      "source": [
        "results.shape"
      ],
      "execution_count": 120,
      "outputs": [
        {
          "output_type": "execute_result",
          "data": {
            "text/plain": [
              "(13500, 3)"
            ]
          },
          "metadata": {
            "tags": []
          },
          "execution_count": 120
        }
      ]
    },
    {
      "cell_type": "code",
      "metadata": {
        "id": "3_i3rcXy9RCG",
        "colab_type": "code",
        "colab": {
          "base_uri": "https://localhost:8080/",
          "height": 1000
        },
        "outputId": "8eea4535-cf05-4dd0-a89a-601fe9e49b06"
      },
      "source": [
        "print(results[9100:9200])"
      ],
      "execution_count": 121,
      "outputs": [
        {
          "output_type": "stream",
          "text": [
            "[['What is a resolution ?' 'Something you say .' nan]\n",
            " ['Which of the following is true according to the passage ?'\n",
            "  '\" Fast food fanatics \" usually do not stock their fridges with fresh fruit .'\n",
            "  nan]\n",
            " ['What did the man do when he saw the writer ?'\n",
            "  'He helped her without hesitation .' nan]\n",
            " ['\" Do remember to put it into the letter box on your way to work \" showed'\n",
            "  \"Mrs. Black doubted her husband 's memory\" nan]\n",
            " ['Why do many people like visiting museums ?'\n",
            "  'Because visits to museums can help gain knowledge .' nan]\n",
            " ['Compared with the device designed by Larry Rome , this new device'\n",
            "  'produces power without adding more loads to the walker' nan]\n",
            " ['Which way is NOT mentioned   in the passage ?'\n",
            "  'Listen to and sing English songs .' nan]\n",
            " ['According to the passage , Alice Munro was awarded the 2013 Noble Prize in Literature mainly for'\n",
            "  'she is a master of the contemporary short story' nan]\n",
            " ['According to the passage , kmad.org' 'provides some goods sold online'\n",
            "  nan]\n",
            " ['The main purpose of this advertisement is to'\n",
            "  'encourage more people to get registered for the Forum in time' nan]\n",
            " ['Underwater archaeologists are worried because'\n",
            "  'sold artifacts can hardly be regained for research' nan]\n",
            " ['We learn that before coins and paper money were used ,'\n",
            "  'many kinds of things were used for exchanging' nan]\n",
            " ['Compared with other books about the Royal Family , the biggest advantage of The Final Curtsey is that'\n",
            "  'its author knows the Queen well' nan]\n",
            " ['Which of the following can serve as the best title for the passage ?'\n",
            "  'Time to Kick the Habit' nan]\n",
            " ['What should one plan to do if going somewhere in the winter ?'\n",
            "  'Put on several layers of clothing .' nan]\n",
            " ['What is the main reason why people said \" what a shame ! \" ?'\n",
            "  'Bill could have returned home with the gold medal in time .' nan]\n",
            " ['What is the purpose of the passage ?'\n",
            "  'To give some information about Brightman .' nan]\n",
            " ['What advice did girl get from wise people ?'\n",
            "  'To forgive those who hurt her .' nan]\n",
            " ['According to the passage , there was an accident once when people'\n",
            "  'watched crocodiles in the \" Cage of Death \" in Darwin' nan]\n",
            " ['Drinking tea has lots of advantages EXCEPT'\n",
            "  'having a strong wish for food' nan]\n",
            " ['What happened to Mandela when he was about to give the speech ?'\n",
            "  \"He had to use his wife 's glasses .\" nan]\n",
            " [\"According to the passage , the writer 's mother\"\n",
            "  'kept up most of the night in order not to miss the wakeup call .' nan]\n",
            " ['Whose birthday is it ?' \"It 's Sue 's .\" nan]\n",
            " ['Tom cried when Henry read the yellowed letter , because'\n",
            "  \"he felt sad at the thought of Henry 's wife\" nan]\n",
            " [\"If you want to know what 's on in the cinema , you 'd better read\"\n",
            "  'the amusement section' nan]\n",
            " ['What will happen when an Argentinian meets a Scandinavian ?'\n",
            "  'The Argentinian will try to contact the Scandinavian .' nan]\n",
            " ['Which of the following will help to cost you less for a flight ?'\n",
            "  'Book early morning flights .' nan]\n",
            " ['Which of the following statements is true according to the passage ?'\n",
            "  'The fist web browser was very expensive to buy' nan]\n",
            " ['Which of the following Hwys is closest to the Hampton Inn Boone hotel ?'\n",
            "  'Hwy105' nan]\n",
            " ['From the passage , we can infer that a perfectionist will   .'\n",
            "  'pay attention to details more than their major goals' nan]\n",
            " ['The author intends to'\n",
            "  'tell us the family is very important to children' nan]\n",
            " ['The best title of this passage is    '\n",
            "  'Exercising to Music Pumps up Brain Power' nan]\n",
            " ['The ban on all cellphone use by drivers was put forward'\n",
            "  \"after about ten years ' investigation in it\" nan]\n",
            " ['What does the author mean by saying\"the British drought well and truly over \" ?'\n",
            "  \"The British people 's desire for a Wimbledon victory is fully satisfied .\"\n",
            "  nan]\n",
            " ['From the letter , we can learn that the author is'\n",
            "  'a regular customer of the store' nan]\n",
            " [\". This passage does n't tell us if we can\"\n",
            "  'publish / sell the puzzles we create' nan]\n",
            " ['A person needs exercise because' 'it makes him healthy' nan]\n",
            " ['The purpose of the passage is to teach you'\n",
            "  'what to do when a friendship changes' nan]\n",
            " ['If a lady receives an invitation marked with \" formal \" , she should wear'\n",
            "  'a long dress' nan]\n",
            " ['According to the text , the author may disagree with the idea that'\n",
            "  \"the SAT helps measure students ' ability of reasoning through their creativity and imagination\"\n",
            "  nan]\n",
            " ['Which of the following is NOT true ?'\n",
            "  'Some Portuguese settled in Macao and made their homes nearly a century ago .'\n",
            "  nan]\n",
            " ['After John found his father ,' 'he started a rich life' nan]\n",
            " ['The town of Guiya in Guangdong Province'\n",
            "  'has serious e - waste pollution' nan]\n",
            " ['Which of the following is TRUE , according to the passage ?'\n",
            "  'With parent and teachers caring for the child , he may feel supported .'\n",
            "  nan]\n",
            " [\"Susan did n't tell Grandma about Jackie 's secret because\"\n",
            "  'she wanted Jackie to do something for her' nan]\n",
            " ['Which of the following is NOT true ?'\n",
            "  \"Tim 's programs were placed on to the Internet in 1990 .\" nan]\n",
            " [\"What 's the passage mainly about ?\"\n",
            "  \"Playing is good for children 's development .\" nan]\n",
            " ['From what Lenny did , we can conclude that    ' 'Lenny was brave' nan]\n",
            " ['What would be the best title of the text ?    '\n",
            "  'The painting on the wall .' nan]\n",
            " ['What is the main theme of the article ?'\n",
            "  'A comparison between lifestyles of generations .' nan]\n",
            " ['\" Fate of the World \" in the passage refers to'\n",
            "  'a computer game on climate change' nan]\n",
            " ['Which of the following is NOT TRUE ?'\n",
            "  'Jack and Bob go to the zoo at last .' nan]\n",
            " ['What does show rooming mean in the text ?'\n",
            "  'Trying in shops and buying online .' nan]\n",
            " ['What can you do in July , 2011 ?'\n",
            "  'Do some volunteering work locally .' nan]\n",
            " ['Which sentence is true ?' 'Everyone has a good time at the party .'\n",
            "  nan]\n",
            " ['What does \" artificial stupidity \" in Paragragh 3 mean ?'\n",
            "  'AI discourages skilled work .' nan]\n",
            " ['.After their children were born , the writer'\n",
            "  'looked after her children as a professional ( , ) housewife' nan]\n",
            " ['We can learn that the future of crosstalk first lies in'\n",
            "  \"young people 's awareness of its value\" nan]\n",
            " ['The passage is mainly about' 'the ways to protect the environment' nan]\n",
            " ['How did the man get the books ?    ' 'He stole them from the car .'\n",
            "  nan]\n",
            " ['What would be the best title for the passage ?'\n",
            "  'A special pair of new shoes' nan]\n",
            " ['The best title    for this passage    would be'\n",
            "  'What British and American people wear nowadays' nan]\n",
            " ['Which of these sentences about exercising is true ?'\n",
            "  'Exercising good for heart .' nan]\n",
            " ['Which of the follwing would be the best title for the passage ?'\n",
            "  'Homeschool materials in songs' nan]\n",
            " ['What can be the best title for the passage ?' 'Hugging Life' nan]\n",
            " ['Craig Venter and his team are working to'\n",
            "  'produce the first artificial bacteria' nan]\n",
            " ['In the Festival , you can' 'buy copies of ancient advertisements' nan]\n",
            " ['From the news report we know that'\n",
            "  'parents have little idea of how to teach children time' nan]\n",
            " ['Family values can be passed on if' 'parents foster them intentionally'\n",
            "  nan]\n",
            " ['If you want to be a member of Summer Science Class , you should'\n",
            "  'call a phone 8455344517' nan]\n",
            " ['Who can apply for the exchange programme ?'\n",
            "  'Students in English and Drama' nan]\n",
            " ['Which of the following the true about the tour ?'\n",
            "  'It offers chances to take great photos .' nan]\n",
            " ['Lightning Ridge is a place where dreams can be fulfilled because'\n",
            "  'there are precious stones and life is peaceful' nan]\n",
            " [\"Why did n't the Venezuelan police go into the man 's bedroom ?\"\n",
            "  'The Venezuelan police were not allowed to enter Colombia .' nan]\n",
            " [\"According to the passage , the followings are all reasons for Wal - Mart 's sales declined in April except\"\n",
            "  'cheaper goods' nan]\n",
            " ['The popularity of The Lord of the Rings proves'\n",
            "  'the general existence of the sense of curiosity' nan]\n",
            " ['By using mass marketing , Asa tried many ways EXCEPT'\n",
            "  'paying $ 2,300 for the rights to Coca - Cola' nan]\n",
            " ['According to Dr SueHuei Chen , what can we do to prevent game addiction ?'\n",
            "  'Care much for the young and improve their ability to get along with others .'\n",
            "  nan]\n",
            " ['In her article in The Telegraph , we can infer Anne Hidalgo'\n",
            "  'showed an objective attitude toward London and Paris .' nan]\n",
            " ['If we travel by car , we can    ' 'make our own timetable' nan]\n",
            " ['How do the plants on green roofs get watered ?'\n",
            "  'Rainwater is often kept in the green roof system for later use' nan]\n",
            " ['Which of the following statements is NOT true according to the passage ?'\n",
            "  'the neighbour fixed needles on his own head' nan]\n",
            " ['This passage primarily deals with' 'conditions of life in Biosphere 2'\n",
            "  nan]\n",
            " ['According to the high level official , it is easy for teenagers lacking independence and responsibility to'\n",
            "  'suffer from loneliness and anxiety' nan]\n",
            " ['Which of the following statements is TRUE according to the passage ?'\n",
            "  'Johnson believes that Oxygen sensors also exist in human skin .' nan]\n",
            " ['Which of the following is the best title ?' 'I Never Write Right' nan]\n",
            " ['Some animals living in groups are similar to humans in'\n",
            "  'following certain rules' nan]\n",
            " ['Which one is NOT true according to the passage ?'\n",
            "  'Families prefer traditional camps to special camps .' nan]\n",
            " ['What does the passage mainly want to tell us ?'\n",
            "  'Dinner customs in the US restaurants .' nan]\n",
            " ['What does the story seem to tell you ?'\n",
            "  '.Being poor is not necessarily a bad thing .' nan]\n",
            " ['Why did some of the customers admire them ?'\n",
            "  'Because they have been together for many years' nan]\n",
            " ['Which of the following is holiday for family ?' \"St. Patrick 's Day .\"\n",
            "  nan]\n",
            " ['From the study , we know that    '\n",
            "  'some kinds of bacteria live on our skin because of dog ownership .'\n",
            "  nan]\n",
            " ['Compared with online chat , face - to - face communication allows people'\n",
            "  'to better understand what other people are working on' nan]\n",
            " ['She realized burglars had been in the flat when'\n",
            "  'she saw the living room was out of order' nan]\n",
            " ['Which of the following is TRUE about the Hundred Years Starship ?'\n",
            "  'It aims to explore new lands in the universe .' nan]\n",
            " ['What can we infer from the passage ?'\n",
            "  'Both Mike and Zac had adventured spirits .' nan]\n",
            " ['Ten students ride the bikes to school because they live'\n",
            "  'not far from the school' nan]\n",
            " ['Where are their Coffee Republic shops ?' 'All over the UK .' nan]\n",
            " ['What can we learn about the volunteering ?'\n",
            "  'It is easy to find a homeless shelter to volunteer .' nan]]\n"
          ],
          "name": "stdout"
        }
      ]
    },
    {
      "cell_type": "code",
      "metadata": {
        "id": "Z_cEIO7b9T_B",
        "colab_type": "code",
        "colab": {}
      },
      "source": [
        "def predict_distractors(X1,X2):\n",
        "  dists = []\n",
        "  for j in range(3):\n",
        "    in_text = \"StartSeq\"\n",
        "    for i in range(max_len):\n",
        "      sequence = [word_to_idx[w] for w in in_text.split() if w in word_to_idx]\n",
        "      sequence = pad_sequences([sequence],maxlen=max_len,padding = 'post')[0]\n",
        "      XQ = []\n",
        "      XA = []\n",
        "      XI = []\n",
        "      XQ.append(X1)\n",
        "      XA.append(X2)\n",
        "      XI.append(sequence)\n",
        "      y_pred = model.predict([np.array(XQ),np.array(XA),np.array(XI)])\n",
        "      \n",
        "      if(i<=1):\n",
        "        y_pred=np.array(y_pred)\n",
        "        y_pred = y_pred.argsort()\n",
        "        y_pred=y_pred[0][:]\n",
        "        y_pred=y_pred[len(y_pred)-1-j]\n",
        "      else:\n",
        "        y_pred=y_pred.argmax()\n",
        "      word = idx_to_word[y_pred]\n",
        "      in_text += (' ' + word)\n",
        "\n",
        "      if word == 'EndSeq':\n",
        "        break\n",
        "    final_dists = in_text.split()[1:-1]\n",
        "    final_dists = ' '.join(final_dists)\n",
        "    dists.append(final_dists)\n",
        "  return dists"
      ],
      "execution_count": 0,
      "outputs": []
    },
    {
      "cell_type": "code",
      "metadata": {
        "id": "8mJD10zm9Zi2",
        "colab_type": "code",
        "colab": {
          "base_uri": "https://localhost:8080/",
          "height": 765
        },
        "outputId": "b4fe56f6-0f59-4eab-95fc-ccee9ac56e7c"
      },
      "source": [
        "L = []\n",
        "for i in range(9100,results.shape[0]):\n",
        "  \n",
        "  question= clean_text(results[i][0])\n",
        "  answer = clean_text(results[i][1])\n",
        "\n",
        "#   print(question)\n",
        "#   print(answer)\n",
        "  seqq = [word_to_idx[wordQ] for wordQ in question.split() if wordQ in word_to_idx]\n",
        "  question= pad_sequences([seqq],maxlen=max_q,value=0,padding='post')[0]\n",
        "\n",
        "  seqa = [word_to_idx[wordA] for wordA in answer.split() if wordA in word_to_idx]\n",
        "  answer = pad_sequences([seqa],maxlen=max_a,value=0,padding='post')[0]\n",
        "  \n",
        "#   question = question.reshape((1,question.shape[0]))\n",
        "#   answer = answer.reshape((1,answer.shape[0]))\n",
        "  \n",
        "  distractor = predict_distractors(question,answer)\n",
        "  distractor = str(distractor)\n",
        "  distractor = distractor[1:-1]\n",
        "  results[i][2] = distractor\n",
        "  \n",
        "  if (i+1)%100==0:\n",
        "    print(\"questions done\",i+1)"
      ],
      "execution_count": 123,
      "outputs": [
        {
          "output_type": "stream",
          "text": [
            "questions done 9200\n",
            "questions done 9300\n",
            "questions done 9400\n",
            "questions done 9500\n",
            "questions done 9600\n",
            "questions done 9700\n",
            "questions done 9800\n",
            "questions done 9900\n",
            "questions done 10000\n",
            "questions done 10100\n",
            "questions done 10200\n",
            "questions done 10300\n",
            "questions done 10400\n",
            "questions done 10500\n",
            "questions done 10600\n",
            "questions done 10700\n",
            "questions done 10800\n",
            "questions done 10900\n",
            "questions done 11000\n",
            "questions done 11100\n",
            "questions done 11200\n",
            "questions done 11300\n",
            "questions done 11400\n",
            "questions done 11500\n",
            "questions done 11600\n",
            "questions done 11700\n",
            "questions done 11800\n",
            "questions done 11900\n",
            "questions done 12000\n",
            "questions done 12100\n",
            "questions done 12200\n",
            "questions done 12300\n",
            "questions done 12400\n",
            "questions done 12500\n",
            "questions done 12600\n",
            "questions done 12700\n",
            "questions done 12800\n",
            "questions done 12900\n",
            "questions done 13000\n",
            "questions done 13100\n",
            "questions done 13200\n",
            "questions done 13300\n",
            "questions done 13400\n",
            "questions done 13500\n"
          ],
          "name": "stdout"
        }
      ]
    },
    {
      "cell_type": "code",
      "metadata": {
        "id": "-FcZQsfjGF3v",
        "colab_type": "code",
        "colab": {
          "base_uri": "https://localhost:8080/",
          "height": 34
        },
        "outputId": "335341ed-a433-4d58-e163-bf602181f601"
      },
      "source": [
        "if (i+1)%100==0:\n",
        "    print(\"questions done\",i+1)\n",
        "    res = pd.DataFrame(results)\n",
        "    res.to_csv(\"./Results\"+str(i+1)+\".csv\",header=[\"question\",\"answer_text\",\"distractor\"],index = None)"
      ],
      "execution_count": 127,
      "outputs": [
        {
          "output_type": "stream",
          "text": [
            "questions done 13500\n"
          ],
          "name": "stdout"
        }
      ]
    },
    {
      "cell_type": "code",
      "metadata": {
        "id": "_2PnuNOC9dFu",
        "colab_type": "code",
        "colab": {}
      },
      "source": [
        "results = pd.DataFrame(results)"
      ],
      "execution_count": 0,
      "outputs": []
    },
    {
      "cell_type": "code",
      "metadata": {
        "id": "9pDTNn8O9hl_",
        "colab_type": "code",
        "colab": {}
      },
      "source": [
        "results.to_csv(\"Results.csv\",header=[\"question\",\"answer_text\",\"distractor\"],index = None)"
      ],
      "execution_count": 0,
      "outputs": []
    },
    {
      "cell_type": "code",
      "metadata": {
        "id": "BneNoPjOE5d_",
        "colab_type": "code",
        "colab": {}
      },
      "source": [
        ""
      ],
      "execution_count": 0,
      "outputs": []
    }
  ]
}